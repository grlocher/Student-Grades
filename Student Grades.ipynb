{
 "cells": [
  {
   "cell_type": "code",
   "execution_count": 149,
   "id": "4817210f-acc6-4ae7-a9be-1a3fc0e598b5",
   "metadata": {},
   "outputs": [],
   "source": [
    "import numpy as np\n",
    "import statistics as stats\n",
    "import pandas as pd"
   ]
  },
  {
   "cell_type": "code",
   "execution_count": 150,
   "id": "e557f7e3-f390-4449-8f82-e4ca958dcd86",
   "metadata": {},
   "outputs": [
    {
     "name": "stdout",
     "output_type": "stream",
     "text": [
      "     Name  Math  Science  Reading  History\n",
      "0    Adam  11.0      9.0     16.0     13.5\n",
      "1    Anna  12.0     11.0      8.5     10.0\n",
      "2   James  11.0     18.0     11.5      9.0\n",
      "3   Corey   7.0     15.5     11.0     14.0\n",
      "4  Alisha   9.5     12.0     10.5     14.0\n",
      "5   Jodie  15.0     18.5      7.0     12.0\n",
      "6    John  18.0     15.5     11.0      7.5\n"
     ]
    }
   ],
   "source": [
    "df = pd.read_csv('student-data.csv') # df.to_numpy() to convert it to a numpy array\n",
    "print(df.head(8))"
   ]
  },
  {
   "cell_type": "code",
   "execution_count": 151,
   "id": "a46062b6-b0ab-4004-aebc-8e7a4f8fcf38",
   "metadata": {},
   "outputs": [
    {
     "name": "stdout",
     "output_type": "stream",
     "text": [
      "Math: 11.928571428571429\n",
      "Science: 14.214285714285714\n",
      "Reading: 10.785714285714286\n",
      "History: 11.428571428571429\n"
     ]
    }
   ],
   "source": [
    "# Calculate the mean for each individual subject\n",
    "math_mean = df['Math'].mean()\n",
    "science_mean = df['Science'].mean()\n",
    "reading_mean = df['Reading'].mean()\n",
    "history_mean = df['History'].mean()\n",
    "\n",
    "print(f'Math: {math_mean}\\nScience: {science_mean}\\nReading: {reading_mean}\\nHistory: {history_mean}')"
   ]
  },
  {
   "cell_type": "code",
   "execution_count": 152,
   "id": "fbb039c8-f1dd-40c1-88e3-5fbef588a03c",
   "metadata": {},
   "outputs": [
    {
     "data": {
      "text/plain": [
       "11.0"
      ]
     },
     "execution_count": 152,
     "metadata": {},
     "output_type": "execute_result"
    }
   ],
   "source": [
    "# Calculate the median grade in Math for all students\n",
    "np.median(df['Math'])"
   ]
  },
  {
   "cell_type": "code",
   "execution_count": 153,
   "id": "c80d7eb3-2df9-4b34-a258-a5ec28ab0f0b",
   "metadata": {},
   "outputs": [
    {
     "data": {
      "text/plain": [
       "14.0"
      ]
     },
     "execution_count": 153,
     "metadata": {},
     "output_type": "execute_result"
    }
   ],
   "source": [
    "# Calculate the mode for History\n",
    "stats.mode(df['History'])"
   ]
  },
  {
   "cell_type": "code",
   "execution_count": 154,
   "id": "af71155f-4cb9-4ca6-883a-a8160ca9d7d2",
   "metadata": {},
   "outputs": [
    {
     "name": "stdout",
     "output_type": "stream",
     "text": [
      "             Math   Science   Reading   History\n",
      "Math     1.000000  0.269494 -0.268562 -0.718358\n",
      "Science  0.269494  1.000000 -0.527606 -0.358688\n",
      "Reading -0.268562 -0.527606  1.000000  0.206794\n",
      "History -0.718358 -0.358688  0.206794  1.000000\n",
      "\n",
      "Correlation is strongest between Math and History at -.718358\n"
     ]
    }
   ],
   "source": [
    "# Given the following grades from Question 1, calculate the correlation between the different subjects\n",
    "# What two subjects have the strongest correlation?\n",
    "\n",
    "correlation_coefficient = df[['Math', 'Science', 'Reading', 'History']].corr()\n",
    "\n",
    "print(correlation_coefficient)\n",
    "print('\\nCorrelation is strongest between Math and History at -.718358')"
   ]
  },
  {
   "cell_type": "code",
   "execution_count": 155,
   "id": "483653b5-1665-4b3f-932f-04c870650661",
   "metadata": {},
   "outputs": [
    {
     "name": "stdout",
     "output_type": "stream",
     "text": [
      "mean: 59.47826086956522\n",
      "median: 60.0\n",
      "mode: 60\n",
      "minimum: 5\n",
      "maximum: 99\n",
      "range: 94\n",
      "variance: 664.162570888469\n",
      "standard deviation: 25.77135174740489\n"
     ]
    }
   ],
   "source": [
    "exam_grades = np.array([24, 5, 15, 60, 54, 82, 99, 80, 70, 98, 93, 60, 33, 22, 65, 61, 51, 58, 83, 86, 42, 67, 60])\n",
    "\n",
    "def desc_stats():\n",
    "    mean = np.mean(exam_grades)\n",
    "    variance = sum((x - mean) ** 2 for x in exam_grades) / len(exam_grades)\n",
    "    standard_deviation = variance ** 0.5\n",
    "    \n",
    "    print(f'mean: {np.mean(exam_grades)}')\n",
    "    print(f'median: {np.median(exam_grades)}')\n",
    "    print(f'mode: {stats.mode(exam_grades)}')\n",
    "    print(f'minimum: {np.min(exam_grades)}')\n",
    "    print(f'maximum: {np.max(exam_grades)}')\n",
    "    print(f'range: {max(exam_grades) - min(exam_grades)}')\n",
    "    print(f'variance: {variance}')\n",
    "    print(f'standard deviation: {standard_deviation}')\n",
    "\n",
    "desc_stats()"
   ]
  },
  {
   "cell_type": "code",
   "execution_count": 181,
   "id": "4d1cbe74-b105-40f1-b558-3dd079ba1d40",
   "metadata": {},
   "outputs": [
    {
     "name": "stdout",
     "output_type": "stream",
     "text": [
      "I would curve the grade because the class average out of 100 was 59 which is considered failing\n"
     ]
    }
   ],
   "source": [
    "print('I would curve the grade because the class average out of 100 was 59 which is considered failing')"
   ]
  },
  {
   "cell_type": "code",
   "execution_count": null,
   "id": "2ebe8dbc-2248-4f41-9430-f2217040470e",
   "metadata": {},
   "outputs": [],
   "source": []
  }
 ],
 "metadata": {
  "kernelspec": {
   "display_name": "Python 3 (ipykernel)",
   "language": "python",
   "name": "python3"
  },
  "language_info": {
   "codemirror_mode": {
    "name": "ipython",
    "version": 3
   },
   "file_extension": ".py",
   "mimetype": "text/x-python",
   "name": "python",
   "nbconvert_exporter": "python",
   "pygments_lexer": "ipython3",
   "version": "3.11.7"
  }
 },
 "nbformat": 4,
 "nbformat_minor": 5
}
